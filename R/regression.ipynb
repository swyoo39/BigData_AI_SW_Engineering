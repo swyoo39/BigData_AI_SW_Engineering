{
 "cells": [
  {
   "cell_type": "markdown",
   "metadata": {},
   "source": [
    "### 머신러닝의 회귀식에서 정확도와 표준오차를 구하는 방법"
   ]
  },
  {
   "cell_type": "code",
   "execution_count": 1,
   "metadata": {
    "vscode": {
     "languageId": "r"
    }
   },
   "outputs": [],
   "source": [
    "# 다음과 같이 실제값과 예측한 값이 있다고 가정하자.\n",
    "\n",
    "correct <- c(1, 2, 3, 4, 5)\n",
    "predicted <- c(0.9, 1.8, 2.5, 4.2, 5.1)"
   ]
  },
  {
   "cell_type": "markdown",
   "metadata": {},
   "source": [
    "### 정확도 (결정계수)\n",
    "\n",
    "R <sup>2</sup> = 1 - {(정답 - 예측값)<sup>2</sup>}의 합 / {(정답 - 정답의 평균)<sup>2</sup>}의 합\n"
   ]
  },
  {
   "cell_type": "code",
   "execution_count": 23,
   "metadata": {
    "vscode": {
     "languageId": "r"
    }
   },
   "outputs": [
    {
     "data": {
      "text/html": [
       "0.965"
      ],
      "text/latex": [
       "0.965"
      ],
      "text/markdown": [
       "0.965"
      ],
      "text/plain": [
       "[1] 0.965"
      ]
     },
     "metadata": {},
     "output_type": "display_data"
    }
   ],
   "source": [
    "# 정확도\n",
    "\n",
    "\n",
    "r = 1 - (sum((correct - predicted)^2) / sum((correct - mean(correct))^2))\n",
    "r"
   ]
  },
  {
   "cell_type": "markdown",
   "metadata": {},
   "source": [
    "### 평균 절대 오차 (Mean Absolute Error)"
   ]
  },
  {
   "cell_type": "code",
   "execution_count": 28,
   "metadata": {
    "vscode": {
     "languageId": "r"
    }
   },
   "outputs": [
    {
     "data": {
      "text/html": [
       "0.22"
      ],
      "text/latex": [
       "0.22"
      ],
      "text/markdown": [
       "0.22"
      ],
      "text/plain": [
       "[1] 0.22"
      ]
     },
     "metadata": {},
     "output_type": "display_data"
    }
   ],
   "source": [
    "# 평균 절대 오차 \n",
    "\n",
    "library(Metrics) # Anaconda Navigator에서 r-metrics를 설치\n",
    "mae(correct, predicted)"
   ]
  },
  {
   "cell_type": "code",
   "execution_count": null,
   "metadata": {
    "vscode": {
     "languageId": "r"
    }
   },
   "outputs": [],
   "source": []
  }
 ],
 "metadata": {
  "kernelspec": {
   "display_name": "R",
   "language": "R",
   "name": "ir"
  },
  "language_info": {
   "codemirror_mode": "r",
   "file_extension": ".r",
   "mimetype": "text/x-r-source",
   "name": "R",
   "pygments_lexer": "r",
   "version": "3.6.1"
  },
  "orig_nbformat": 4
 },
 "nbformat": 4,
 "nbformat_minor": 2
}
